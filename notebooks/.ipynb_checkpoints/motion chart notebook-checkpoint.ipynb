{
 "cells": [
  {
   "cell_type": "markdown",
   "metadata": {},
   "source": [
    "# Motion Charts in Python with Pandas"
   ]
  },
  {
   "cell_type": "markdown",
   "metadata": {},
   "source": [
    "Hans Olav Melberg (hans.melberg@gmail.com), 17. October, 2015"
   ]
  },
  {
   "cell_type": "markdown",
   "metadata": {},
   "source": [
    "## Import modules"
   ]
  },
  {
   "cell_type": "code",
   "execution_count": 9,
   "metadata": {
    "collapsed": true
   },
   "outputs": [],
   "source": [
    "from motionchart.motionchart import MotionChart, MotionChartDemo\n",
    "import webbrowser\n",
    "import pandas as pd\n",
    "import pyperclip"
   ]
  },
  {
   "cell_type": "markdown",
   "metadata": {},
   "source": [
    "Install if necessary, using \"pip install motionchart\""
   ]
  },
  {
   "cell_type": "markdown",
   "metadata": {},
   "source": [
    "## Define dataframe"
   ]
  },
  {
   "cell_type": "code",
   "execution_count": 2,
   "metadata": {
    "collapsed": true
   },
   "outputs": [],
   "source": [
    "fruitdf = pd.DataFrame([\n",
    "      ['Apples',  '1988-0-1', 1000, 300, 44,'East'],\n",
    "      ['Oranges', '1988-0-1', 1150, 200, 42, 'West'],\n",
    "      ['Bananas', '1988-0-1', 300,  250, 35, 'West'],\n",
    "      ['Apples',  '1989-6-1', 1200, 400, 48, 'East'],\n",
    "      ['Oranges', '1989-6-1', 750,  150, 47, 'West'],\n",
    "      ['Bananas', '1989-6-1', 788,  617, 45, 'West']])\n",
    "fruitdf.columns = ['fruit', 'time', 'sales', 'price', 'temperature', 'location']\n",
    "fruitdf['time'] =  pd.to_datetime(fruitdf['time'])"
   ]
  },
  {
   "cell_type": "markdown",
   "metadata": {},
   "source": [
    "## Create and show MotionChart"
   ]
  },
  {
   "cell_type": "code",
   "execution_count": 3,
   "metadata": {
    "collapsed": false
   },
   "outputs": [
    {
     "data": {
      "text/html": [
       "\n",
       "        <iframe\n",
       "            width=\"800\"\n",
       "            height=\"600\"\n",
       "            src=\"mc_temp.html\"\n",
       "            frameborder=\"0\"\n",
       "            allowfullscreen\n",
       "        ></iframe>\n",
       "        "
      ],
      "text/plain": [
       "<IPython.lib.display.IFrame at 0x8f4cef0>"
      ]
     },
     "metadata": {},
     "output_type": "display_data"
    }
   ],
   "source": [
    "mChart = MotionChart(df = fruitdf)\n",
    "mChart.to_notebook()"
   ]
  },
  {
   "cell_type": "markdown",
   "metadata": {},
   "source": [
    "## Demo"
   ]
  },
  {
   "cell_type": "code",
   "execution_count": null,
   "metadata": {
    "collapsed": true
   },
   "outputs": [],
   "source": [
    "motionChartDemo()"
   ]
  },
  {
   "cell_type": "markdown",
   "metadata": {},
   "source": [
    "# A more detailed look at the options"
   ]
  },
  {
   "cell_type": "markdown",
   "metadata": {},
   "source": [
    "### 1. Use the column names from the dataframe to define which variable to use"
   ]
  },
  {
   "cell_type": "code",
   "execution_count": null,
   "metadata": {
    "collapsed": true
   },
   "outputs": [],
   "source": [
    "mc = MotionChart(df = fruitdf,\n",
    "              key = 'time',\n",
    "              x = 'price',\n",
    "              y = 'sales',\n",
    "              size = 'temperature',\n",
    "              color = 'fruit',\n",
    "              category = 'location')\n",
    "mc.to_browser()"
   ]
  },
  {
   "cell_type": "markdown",
   "metadata": {},
   "source": [
    "Remember that clicking on the chart after it is created in the browser also allows you to change the specification."
   ]
  },
  {
   "cell_type": "markdown",
   "metadata": {},
   "source": [
    "### 2. To send the object to the Jupyter Notebook, to a browser, to the clipboard  and to a html file"
   ]
  },
  {
   "cell_type": "code",
   "execution_count": null,
   "metadata": {
    "collapsed": true
   },
   "outputs": [],
   "source": [
    "mc.to_notebook()\n",
    "mc.to_browser()\n",
    "mc.to_clipboard()\n",
    "mc.to_file()"
   ]
  },
  {
   "cell_type": "markdown",
   "metadata": {},
   "source": [
    "### 3. You are free to use the column number instead of the column name "
   ]
  },
  {
   "cell_type": "markdown",
   "metadata": {},
   "source": [
    "This is useful if you want to use the index column of the dataframe."
   ]
  },
  {
   "cell_type": "code",
   "execution_count": 8,
   "metadata": {
    "collapsed": false
   },
   "outputs": [],
   "source": [
    "mc = MotionChart(df = fruitdf, \n",
    "                 title = \"Motion Chart\",\n",
    "                 url = \"http://socr.ucla.edu/htmls/HTML5/MotionChart\",\n",
    "                 key = 1,\n",
    "                 x = 2,\n",
    "                 y = 3,\n",
    "                 size = 4, \n",
    "                 color = 5,\n",
    "                 category = 1)"
   ]
  },
  {
   "cell_type": "markdown",
   "metadata": {},
   "source": [
    "### 4. Offline?"
   ]
  },
  {
   "cell_type": "markdown",
   "metadata": {},
   "source": [
    "It is possible to use create and show motionCharts without an internet connection. This requires that you first install the folders with the javascript files on your local machine (copy the \"css\" and \"js\" folders and the content from https://github.com/hmelberg/motionchart). Next, when defining a motion chart you tell it the path to the local folder where the required files are like this: "
   ]
  },
  {
   "cell_type": "code",
   "execution_count": null,
   "metadata": {
    "collapsed": true
   },
   "outputs": [],
   "source": [
    "mChart = MotionChart(dataframe, url = \"(path to your folder with the motion chart js and css)\")"
   ]
  },
  {
   "cell_type": "markdown",
   "metadata": {},
   "source": [
    "## List of options and defaults "
   ]
  },
  {
   "cell_type": "code",
   "execution_count": null,
   "metadata": {
    "collapsed": true
   },
   "outputs": [],
   "source": [
    "mc = MotionChart(\n",
    "                    df = df, \n",
    "                    title = \"Motion Chart\",\n",
    "                    url = \"http://socr.ucla.edu/htmls/HTML5/MotionChart\",\n",
    "                    key = 1,\n",
    "                    x = 2,\n",
    "                    y = 3,\n",
    "                    size = 4, \n",
    "                    color = 5,\n",
    "                    category = 1,\n",
    "                    xscale='linear',\n",
    "                    yscale='linear',\n",
    "                    play = 'true',\n",
    "                    loop = 'false',\n",
    "                    width = 800,\n",
    "                    height = 600,\n",
    "                    varLabels=None)"
   ]
  },
  {
   "cell_type": "markdown",
   "metadata": {},
   "source": [
    "## Explained"
   ]
  },
  {
   "cell_type": "markdown",
   "metadata": {},
   "source": [
    "**df**              \n",
    "    # specifies the name of the pandas dataframe used to create the motion chart, default is df\n",
    "\n",
    "**title**           \n",
    "    # string. The title of the chart (text, string) \n",
    "\n",
    "**url             **\n",
    "    # string. url to folder with js and css files; can be local, default is external (requires web) \n",
    "\n",
    "**key**             \n",
    "    # string or integer. the column number of the \"play\" variable (does not have to be time)\n",
    "\n",
    "**x**               \n",
    "    # string or integer. number (integer) or name (text, string) of the x-variable in the chart\n",
    "\n",
    "**y**\n",
    "    # string or integer. number (integer) or name (text, string) of the x-variable in the chart\n",
    "\n",
    "**size**            \n",
    "    # name (string) or column number of the variable used to determine the size of the circles\n",
    "\n",
    "**color**           \n",
    "    # name (string) or column number of the variable used to determine the color of the circles\n",
    "\n",
    "**category**        \n",
    "    # name (string) or column number of the variable used to describe the category   \n",
    "\n",
    "**xscale**          \n",
    "    # Scale for x-variable, default 'linear'. Options: 'log', 'sqrt', 'log', 'quadnomial', 'ordinal'\n",
    "\n",
    "**yscale**          \n",
    "    # Scale for y-variable, default 'linear'. Options: 'log', 'sqrt', 'log', 'quadnomial', 'ordinal'\n",
    "\n",
    "**play**            \n",
    "    # string. 'true' or 'false' (default, false). Determines whether the motion starts right away\n",
    "\n",
    "**loop**            \n",
    "    # string. 'true' or 'false' (default, false). Determines whether the motion keeps repeating \n",
    "\n",
    "**width**           \n",
    "    # integer. width of chart in pixels, default 800\n",
    "\n",
    "**height**          \n",
    "    # integer. height of chart in pixels, default 400\n",
    "\n",
    "**varLabels**       \n",
    "    # list. list of labels for columns (default is column headers of dataframe, \n",
    "    # must be of same length as the number of columns in the dataframe, including the index columns\n",
    "\n",
    "                            "
   ]
  },
  {
   "cell_type": "markdown",
   "metadata": {},
   "source": [
    "## Acknowledgements and more information"
   ]
  },
  {
   "cell_type": "markdown",
   "metadata": {},
   "source": [
    "See https://github.com/RamyElkest/SocrMotionChartsHTML5 for more information about the javascript which builds the chart<BR>\n",
    "See also https://github.com/psychemedia/dataviz4development/tree/master/SocrMotionCharts<BR>\n",
    "For more bakcground, and java version, see http://www.amstat.org/publications/jse/v18n3/dinov.pdf<BR>"
   ]
  }
 ],
 "metadata": {
  "kernelspec": {
   "display_name": "Python 3",
   "language": "python",
   "name": "python3"
  },
  "language_info": {
   "codemirror_mode": {
    "name": "ipython",
    "version": 3
   },
   "file_extension": ".py",
   "mimetype": "text/x-python",
   "name": "python",
   "nbconvert_exporter": "python",
   "pygments_lexer": "ipython3",
   "version": "3.4.3"
  }
 },
 "nbformat": 4,
 "nbformat_minor": 0
}
